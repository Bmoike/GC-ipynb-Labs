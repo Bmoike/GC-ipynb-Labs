{
 "cells": [
  {
   "cell_type": "markdown",
   "metadata": {
    "id": "_p9mrB0o45jA"
   },
   "source": [
    "# Pima Data cleaning\n",
    "\n"
   ]
  },
  {
   "cell_type": "code",
   "execution_count": 680,
   "metadata": {
    "id": "hLjevvKz45jC"
   },
   "outputs": [],
   "source": [
    "# Import Modules Here\n",
    "import pandas as pd"
   ]
  },
  {
   "cell_type": "markdown",
   "metadata": {
    "id": "2o2uuJPh45jC"
   },
   "source": [
    "## Part 1: Read the Data into Jupyter"
   ]
  },
  {
   "cell_type": "code",
   "execution_count": 682,
   "metadata": {
    "id": "mXWv2Orl45jD"
   },
   "outputs": [],
   "source": [
    "# Read the data into a dataframe named pima_df.\n",
    "# YOUR CODE HERE\n",
    "pima_df = pd.read_csv('diabetes_uncleaned_data.csv')"
   ]
  },
  {
   "cell_type": "markdown",
   "metadata": {
    "id": "R99wMGND45jD"
   },
   "source": [
    "## Part 2: Missing Data"
   ]
  },
  {
   "cell_type": "code",
   "execution_count": 684,
   "metadata": {
    "id": "cbUYWUoF45jD"
   },
   "outputs": [
    {
     "data": {
      "text/plain": [
       "Pregnancies                 114\n",
       "Glucose                      16\n",
       "BloodPressure                22\n",
       "SkinThickness                 0\n",
       "Insulin                       0\n",
       "BMI                           1\n",
       "DiabetesPedigreeFunction      0\n",
       "Age                          22\n",
       "Outcome                       0\n",
       "dtype: int64"
      ]
     },
     "execution_count": 684,
     "metadata": {},
     "output_type": "execute_result"
    }
   ],
   "source": [
    "#Question 1:  Find Columns with missing data\n",
    "# YOUR CODE HERE\n",
    "pima_df.isna().sum()"
   ]
  },
  {
   "cell_type": "code",
   "execution_count": 685,
   "metadata": {
    "id": "a17SSULk45jD"
   },
   "outputs": [
    {
     "data": {
      "text/plain": [
       "Pregnancies                 0\n",
       "Glucose                     0\n",
       "BloodPressure               0\n",
       "SkinThickness               0\n",
       "Insulin                     0\n",
       "BMI                         0\n",
       "DiabetesPedigreeFunction    0\n",
       "Age                         0\n",
       "Outcome                     0\n",
       "dtype: int64"
      ]
     },
     "execution_count": 685,
     "metadata": {},
     "output_type": "execute_result"
    }
   ],
   "source": [
    "# Question 2:  Write code to remove rows with missing data and save the new dataframe as pima_missing_fixed_df\n",
    "# YOUR CODE HERE\n",
    "pima_missing_fixed_df = pima_df.dropna()\n",
    "pima_missing_fixed_df.isna().sum()"
   ]
  },
  {
   "cell_type": "code",
   "execution_count": 686,
   "metadata": {
    "id": "qTos4gtC45jE"
   },
   "outputs": [
    {
     "data": {
      "text/plain": [
       "840"
      ]
     },
     "execution_count": 686,
     "metadata": {},
     "output_type": "execute_result"
    }
   ],
   "source": [
    "# Question 3:  Print out the number of rows in the dataframe.\n",
    "# YOUR CODE HERE\n",
    "len(pima_missing_fixed_df)\n",
    "pima_missing_fixed_df.shape[0]"
   ]
  },
  {
   "cell_type": "markdown",
   "metadata": {
    "id": "OwT7Muyl45jE"
   },
   "source": [
    "### Question 4:  Discuss why missing data could be a problem.  What other methods could you use in this situation?\n",
    "\n",
    "Missing data could cause our information to be less accurate, meaning that we are missing big pieces of the puzzle. We could ignore the null values instead of deleting them or replace the null values."
   ]
  },
  {
   "cell_type": "markdown",
   "metadata": {
    "id": "tNBYCmZV45jE"
   },
   "source": [
    "## Part 3: Duplicated Data"
   ]
  },
  {
   "cell_type": "code",
   "execution_count": 689,
   "metadata": {
    "id": "AIxDQIkv45jE"
   },
   "outputs": [
    {
     "data": {
      "text/plain": [
       "0       False\n",
       "1       False\n",
       "2       False\n",
       "4       False\n",
       "5       False\n",
       "        ...  \n",
       "998     False\n",
       "999      True\n",
       "1001    False\n",
       "1002    False\n",
       "1003     True\n",
       "Length: 840, dtype: bool"
      ]
     },
     "execution_count": 689,
     "metadata": {},
     "output_type": "execute_result"
    }
   ],
   "source": [
    "# Question 1: find the rows of duplicated data in the\n",
    "# pima_missing_fixed_df and print them.\n",
    "pima_missing_fixed_df.duplicated()"
   ]
  },
  {
   "cell_type": "code",
   "execution_count": 690,
   "metadata": {
    "id": "BQtBEJfC45jE"
   },
   "outputs": [],
   "source": [
    "# Question 2: Write code to remove duplicate rows\n",
    "# and save the new dataframe as pima_missing_fixed_df\n",
    "pima_missing_fixed_df = pima_missing_fixed_df.drop_duplicates()"
   ]
  },
  {
   "cell_type": "code",
   "execution_count": 691,
   "metadata": {
    "id": "vIwC55_S45jF"
   },
   "outputs": [
    {
     "data": {
      "text/plain": [
       "836"
      ]
     },
     "execution_count": 691,
     "metadata": {},
     "output_type": "execute_result"
    }
   ],
   "source": [
    "# Question 3:  Print out the number of rows in the dataframe.\n",
    "pima_missing_fixed_df.shape[0]"
   ]
  },
  {
   "cell_type": "markdown",
   "metadata": {
    "id": "MITfGUDi45jF"
   },
   "source": [
    "### Question 4:  In your jupyter notebook, discuss why duplicate data could be a problem.\n",
    "### What other methods could you use in this situation?\n",
    "\n",
    "It can lead to bad calculations show the wrong picture when you go to present the data.\n",
    "Instead of removing all duplicates we can determine what is and what is not a duplicate.\n",
    "    ex) .drop_duplicates(subset=['columns to check for duplicates'],keep='first')"
   ]
  },
  {
   "cell_type": "markdown",
   "metadata": {
    "id": "u0pcx72F45jF"
   },
   "source": [
    "## Part 4: Mis-typed Columns/Broken Data\n"
   ]
  },
  {
   "cell_type": "code",
   "execution_count": 694,
   "metadata": {
    "id": "XY6W7kYT45jF"
   },
   "outputs": [
    {
     "name": "stdout",
     "output_type": "stream",
     "text": [
      "BMI\n",
      "7.0     6\n",
      "17.4    6\n",
      "59.6    6\n",
      "15.1    6\n",
      "34.4    5\n",
      "       ..\n",
      "33.7    1\n",
      "38.2    1\n",
      "1.7     1\n",
      "3.6     1\n",
      "4.8     1\n",
      "Name: count, Length: 451, dtype: int64\n",
      "<class 'pandas.core.frame.DataFrame'>\n",
      "Index: 836 entries, 0 to 1002\n",
      "Data columns (total 9 columns):\n",
      " #   Column                    Non-Null Count  Dtype  \n",
      "---  ------                    --------------  -----  \n",
      " 0   Pregnancies               836 non-null    float64\n",
      " 1   Glucose                   836 non-null    float64\n",
      " 2   BloodPressure             836 non-null    object \n",
      " 3   SkinThickness             836 non-null    int64  \n",
      " 4   Insulin                   836 non-null    int64  \n",
      " 5   BMI                       836 non-null    object \n",
      " 6   DiabetesPedigreeFunction  836 non-null    float64\n",
      " 7   Age                       836 non-null    float64\n",
      " 8   Outcome                   836 non-null    object \n",
      "dtypes: float64(4), int64(2), object(3)\n",
      "memory usage: 65.3+ KB\n",
      "None\n"
     ]
    }
   ],
   "source": [
    "# Question 1: find the columns where most of the data seems to be one type of data, and there seems to be a data error. In the markdown, after exploring in code, add a markdown cell discussing which columns have the data error.\n",
    "print(pima_missing_fixed_df['BMI'].value_counts())\n",
    "print(pima_missing_fixed_df.info())"
   ]
  },
  {
   "cell_type": "markdown",
   "metadata": {},
   "source": [
    "BloodPressure: 2 Errors, BMI: Error, Outcome: 1 ERROR"
   ]
  },
  {
   "cell_type": "code",
   "execution_count": 696,
   "metadata": {
    "id": "0GOtka8I45jF"
   },
   "outputs": [
    {
     "name": "stdout",
     "output_type": "stream",
     "text": [
      "BloodPressure\n",
      "26       15\n",
      "27       15\n",
      "82       15\n",
      "96       15\n",
      "81       13\n",
      "         ..\n",
      "104       4\n",
      "107       4\n",
      "13        3\n",
      "10000     2\n",
      "19        1\n",
      "Name: count, Length: 112, dtype: int64\n"
     ]
    }
   ],
   "source": [
    "# Question 2: Remove the rows with data errors\n",
    "pima_missing_fixed_df = pima_missing_fixed_df.loc[pima_missing_fixed_df['Outcome']!= 'ERROR', :]\n",
    "pima_missing_fixed_df = pima_missing_fixed_df.loc[pima_missing_fixed_df['BMI']!= 'Error', :]\n",
    "pima_missing_fixed_df = pima_missing_fixed_df.loc[pima_missing_fixed_df['BloodPressure']!= 'Error', :]\n",
    "\n",
    "print(pima_missing_fixed_df['BloodPressure'].value_counts())"
   ]
  },
  {
   "cell_type": "code",
   "execution_count": 697,
   "metadata": {
    "id": "UePaIZv245jF"
   },
   "outputs": [
    {
     "data": {
      "text/plain": [
       "Outcome\n",
       "False    441\n",
       "True     391\n",
       "Name: count, dtype: int64"
      ]
     },
     "execution_count": 697,
     "metadata": {},
     "output_type": "execute_result"
    }
   ],
   "source": [
    "# Question 3: After the data is fixed in your columns change the columns to the correct type and save this as the pima_fixed_columns_df.\n",
    "def word_bool(x: str):\n",
    "    if x.lower() == 'false':\n",
    "        return False\n",
    "    elif x.lower() == 'true':\n",
    "        return True\n",
    "    else:\n",
    "        raise Exception(\"This must be True or False case insensitive\")\n",
    "\n",
    "pima_missing_fixed_df['Outcome'] = pima_missing_fixed_df['Outcome'].apply(word_bool)\n",
    "pima_missing_fixed_df['Outcome'].value_counts()"
   ]
  },
  {
   "cell_type": "code",
   "execution_count": 698,
   "metadata": {
    "id": "I53gkvL345jG"
   },
   "outputs": [
    {
     "name": "stdout",
     "output_type": "stream",
     "text": [
      "<class 'pandas.core.frame.DataFrame'>\n",
      "Index: 832 entries, 0 to 1001\n",
      "Data columns (total 9 columns):\n",
      " #   Column                    Non-Null Count  Dtype  \n",
      "---  ------                    --------------  -----  \n",
      " 0   Pregnancies               832 non-null    float64\n",
      " 1   Glucose                   832 non-null    float64\n",
      " 2   BloodPressure             832 non-null    float64\n",
      " 3   SkinThickness             832 non-null    int64  \n",
      " 4   Insulin                   832 non-null    int64  \n",
      " 5   BMI                       832 non-null    float64\n",
      " 6   DiabetesPedigreeFunction  832 non-null    float64\n",
      " 7   Age                       832 non-null    float64\n",
      " 8   Outcome                   832 non-null    bool   \n",
      "dtypes: bool(1), float64(6), int64(2)\n",
      "memory usage: 59.3 KB\n"
     ]
    }
   ],
   "source": [
    "# Question 4: Run pima_fixed_columns_df.info() to confirm the columns have changed.\n",
    "pima_missing_fixed_df['BMI'] = pima_missing_fixed_df['BMI'].astype('float64')\n",
    "pima_missing_fixed_df['BloodPressure'] = pima_missing_fixed_df['BloodPressure'].astype('float')\n",
    "pima_missing_fixed_df.info()"
   ]
  },
  {
   "cell_type": "markdown",
   "metadata": {
    "id": "swCDsptl45jG"
   },
   "source": [
    "## Part 5: Outlier Detection and Removal\n"
   ]
  },
  {
   "cell_type": "code",
   "execution_count": 723,
   "metadata": {
    "id": "dY3Lw4n345jG"
   },
   "outputs": [
    {
     "data": {
      "text/html": [
       "<div>\n",
       "<style scoped>\n",
       "    .dataframe tbody tr th:only-of-type {\n",
       "        vertical-align: middle;\n",
       "    }\n",
       "\n",
       "    .dataframe tbody tr th {\n",
       "        vertical-align: top;\n",
       "    }\n",
       "\n",
       "    .dataframe thead th {\n",
       "        text-align: right;\n",
       "    }\n",
       "</style>\n",
       "<table border=\"1\" class=\"dataframe\">\n",
       "  <thead>\n",
       "    <tr style=\"text-align: right;\">\n",
       "      <th></th>\n",
       "      <th>Pregnancies</th>\n",
       "      <th>Glucose</th>\n",
       "      <th>BloodPressure</th>\n",
       "      <th>SkinThickness</th>\n",
       "      <th>Insulin</th>\n",
       "      <th>BMI</th>\n",
       "      <th>DiabetesPedigreeFunction</th>\n",
       "      <th>Age</th>\n",
       "      <th>Outcome</th>\n",
       "    </tr>\n",
       "  </thead>\n",
       "  <tbody>\n",
       "    <tr>\n",
       "      <th>5</th>\n",
       "      <td>-100.0</td>\n",
       "      <td>142.0</td>\n",
       "      <td>88.0</td>\n",
       "      <td>39</td>\n",
       "      <td>82</td>\n",
       "      <td>42.7</td>\n",
       "      <td>1.369</td>\n",
       "      <td>148.0</td>\n",
       "      <td>True</td>\n",
       "    </tr>\n",
       "  </tbody>\n",
       "</table>\n",
       "</div>"
      ],
      "text/plain": [
       "   Pregnancies  Glucose  BloodPressure  SkinThickness  Insulin   BMI  \\\n",
       "5       -100.0    142.0           88.0             39       82  42.7   \n",
       "\n",
       "   DiabetesPedigreeFunction    Age  Outcome  \n",
       "5                     1.369  148.0     True  "
      ]
     },
     "metadata": {},
     "output_type": "display_data"
    },
    {
     "data": {
      "text/html": [
       "<div>\n",
       "<style scoped>\n",
       "    .dataframe tbody tr th:only-of-type {\n",
       "        vertical-align: middle;\n",
       "    }\n",
       "\n",
       "    .dataframe tbody tr th {\n",
       "        vertical-align: top;\n",
       "    }\n",
       "\n",
       "    .dataframe thead th {\n",
       "        text-align: right;\n",
       "    }\n",
       "</style>\n",
       "<table border=\"1\" class=\"dataframe\">\n",
       "  <thead>\n",
       "    <tr style=\"text-align: right;\">\n",
       "      <th></th>\n",
       "      <th>Pregnancies</th>\n",
       "      <th>Glucose</th>\n",
       "      <th>BloodPressure</th>\n",
       "      <th>SkinThickness</th>\n",
       "      <th>Insulin</th>\n",
       "      <th>BMI</th>\n",
       "      <th>DiabetesPedigreeFunction</th>\n",
       "      <th>Age</th>\n",
       "      <th>Outcome</th>\n",
       "    </tr>\n",
       "  </thead>\n",
       "  <tbody>\n",
       "  </tbody>\n",
       "</table>\n",
       "</div>"
      ],
      "text/plain": [
       "Empty DataFrame\n",
       "Columns: [Pregnancies, Glucose, BloodPressure, SkinThickness, Insulin, BMI, DiabetesPedigreeFunction, Age, Outcome]\n",
       "Index: []"
      ]
     },
     "metadata": {},
     "output_type": "display_data"
    },
    {
     "data": {
      "text/html": [
       "<div>\n",
       "<style scoped>\n",
       "    .dataframe tbody tr th:only-of-type {\n",
       "        vertical-align: middle;\n",
       "    }\n",
       "\n",
       "    .dataframe tbody tr th {\n",
       "        vertical-align: top;\n",
       "    }\n",
       "\n",
       "    .dataframe thead th {\n",
       "        text-align: right;\n",
       "    }\n",
       "</style>\n",
       "<table border=\"1\" class=\"dataframe\">\n",
       "  <thead>\n",
       "    <tr style=\"text-align: right;\">\n",
       "      <th></th>\n",
       "      <th>Pregnancies</th>\n",
       "      <th>Glucose</th>\n",
       "      <th>BloodPressure</th>\n",
       "      <th>SkinThickness</th>\n",
       "      <th>Insulin</th>\n",
       "      <th>BMI</th>\n",
       "      <th>DiabetesPedigreeFunction</th>\n",
       "      <th>Age</th>\n",
       "      <th>Outcome</th>\n",
       "    </tr>\n",
       "  </thead>\n",
       "  <tbody>\n",
       "    <tr>\n",
       "      <th>649</th>\n",
       "      <td>3.0</td>\n",
       "      <td>155.0</td>\n",
       "      <td>10000.0</td>\n",
       "      <td>35</td>\n",
       "      <td>748</td>\n",
       "      <td>32.6</td>\n",
       "      <td>0.098</td>\n",
       "      <td>85.0</td>\n",
       "      <td>True</td>\n",
       "    </tr>\n",
       "    <tr>\n",
       "      <th>995</th>\n",
       "      <td>5.0</td>\n",
       "      <td>62.0</td>\n",
       "      <td>10000.0</td>\n",
       "      <td>13</td>\n",
       "      <td>412</td>\n",
       "      <td>48.7</td>\n",
       "      <td>0.267</td>\n",
       "      <td>101.0</td>\n",
       "      <td>False</td>\n",
       "    </tr>\n",
       "  </tbody>\n",
       "</table>\n",
       "</div>"
      ],
      "text/plain": [
       "     Pregnancies  Glucose  BloodPressure  SkinThickness  Insulin   BMI  \\\n",
       "649          3.0    155.0        10000.0             35      748  32.6   \n",
       "995          5.0     62.0        10000.0             13      412  48.7   \n",
       "\n",
       "     DiabetesPedigreeFunction    Age  Outcome  \n",
       "649                     0.098   85.0     True  \n",
       "995                     0.267  101.0    False  "
      ]
     },
     "metadata": {},
     "output_type": "display_data"
    },
    {
     "data": {
      "text/html": [
       "<div>\n",
       "<style scoped>\n",
       "    .dataframe tbody tr th:only-of-type {\n",
       "        vertical-align: middle;\n",
       "    }\n",
       "\n",
       "    .dataframe tbody tr th {\n",
       "        vertical-align: top;\n",
       "    }\n",
       "\n",
       "    .dataframe thead th {\n",
       "        text-align: right;\n",
       "    }\n",
       "</style>\n",
       "<table border=\"1\" class=\"dataframe\">\n",
       "  <thead>\n",
       "    <tr style=\"text-align: right;\">\n",
       "      <th></th>\n",
       "      <th>Pregnancies</th>\n",
       "      <th>Glucose</th>\n",
       "      <th>BloodPressure</th>\n",
       "      <th>SkinThickness</th>\n",
       "      <th>Insulin</th>\n",
       "      <th>BMI</th>\n",
       "      <th>DiabetesPedigreeFunction</th>\n",
       "      <th>Age</th>\n",
       "      <th>Outcome</th>\n",
       "    </tr>\n",
       "  </thead>\n",
       "  <tbody>\n",
       "  </tbody>\n",
       "</table>\n",
       "</div>"
      ],
      "text/plain": [
       "Empty DataFrame\n",
       "Columns: [Pregnancies, Glucose, BloodPressure, SkinThickness, Insulin, BMI, DiabetesPedigreeFunction, Age, Outcome]\n",
       "Index: []"
      ]
     },
     "metadata": {},
     "output_type": "display_data"
    },
    {
     "data": {
      "text/html": [
       "<div>\n",
       "<style scoped>\n",
       "    .dataframe tbody tr th:only-of-type {\n",
       "        vertical-align: middle;\n",
       "    }\n",
       "\n",
       "    .dataframe tbody tr th {\n",
       "        vertical-align: top;\n",
       "    }\n",
       "\n",
       "    .dataframe thead th {\n",
       "        text-align: right;\n",
       "    }\n",
       "</style>\n",
       "<table border=\"1\" class=\"dataframe\">\n",
       "  <thead>\n",
       "    <tr style=\"text-align: right;\">\n",
       "      <th></th>\n",
       "      <th>Pregnancies</th>\n",
       "      <th>Glucose</th>\n",
       "      <th>BloodPressure</th>\n",
       "      <th>SkinThickness</th>\n",
       "      <th>Insulin</th>\n",
       "      <th>BMI</th>\n",
       "      <th>DiabetesPedigreeFunction</th>\n",
       "      <th>Age</th>\n",
       "      <th>Outcome</th>\n",
       "    </tr>\n",
       "  </thead>\n",
       "  <tbody>\n",
       "    <tr>\n",
       "      <th>1</th>\n",
       "      <td>13.0</td>\n",
       "      <td>151.0</td>\n",
       "      <td>107.0</td>\n",
       "      <td>38</td>\n",
       "      <td>10000</td>\n",
       "      <td>9.2</td>\n",
       "      <td>0.507</td>\n",
       "      <td>148.0</td>\n",
       "      <td>False</td>\n",
       "    </tr>\n",
       "  </tbody>\n",
       "</table>\n",
       "</div>"
      ],
      "text/plain": [
       "   Pregnancies  Glucose  BloodPressure  SkinThickness  Insulin  BMI  \\\n",
       "1         13.0    151.0          107.0             38    10000  9.2   \n",
       "\n",
       "   DiabetesPedigreeFunction    Age  Outcome  \n",
       "1                     0.507  148.0    False  "
      ]
     },
     "metadata": {},
     "output_type": "display_data"
    },
    {
     "data": {
      "text/html": [
       "<div>\n",
       "<style scoped>\n",
       "    .dataframe tbody tr th:only-of-type {\n",
       "        vertical-align: middle;\n",
       "    }\n",
       "\n",
       "    .dataframe tbody tr th {\n",
       "        vertical-align: top;\n",
       "    }\n",
       "\n",
       "    .dataframe thead th {\n",
       "        text-align: right;\n",
       "    }\n",
       "</style>\n",
       "<table border=\"1\" class=\"dataframe\">\n",
       "  <thead>\n",
       "    <tr style=\"text-align: right;\">\n",
       "      <th></th>\n",
       "      <th>Pregnancies</th>\n",
       "      <th>Glucose</th>\n",
       "      <th>BloodPressure</th>\n",
       "      <th>SkinThickness</th>\n",
       "      <th>Insulin</th>\n",
       "      <th>BMI</th>\n",
       "      <th>DiabetesPedigreeFunction</th>\n",
       "      <th>Age</th>\n",
       "      <th>Outcome</th>\n",
       "    </tr>\n",
       "  </thead>\n",
       "  <tbody>\n",
       "  </tbody>\n",
       "</table>\n",
       "</div>"
      ],
      "text/plain": [
       "Empty DataFrame\n",
       "Columns: [Pregnancies, Glucose, BloodPressure, SkinThickness, Insulin, BMI, DiabetesPedigreeFunction, Age, Outcome]\n",
       "Index: []"
      ]
     },
     "metadata": {},
     "output_type": "display_data"
    },
    {
     "data": {
      "text/html": [
       "<div>\n",
       "<style scoped>\n",
       "    .dataframe tbody tr th:only-of-type {\n",
       "        vertical-align: middle;\n",
       "    }\n",
       "\n",
       "    .dataframe tbody tr th {\n",
       "        vertical-align: top;\n",
       "    }\n",
       "\n",
       "    .dataframe thead th {\n",
       "        text-align: right;\n",
       "    }\n",
       "</style>\n",
       "<table border=\"1\" class=\"dataframe\">\n",
       "  <thead>\n",
       "    <tr style=\"text-align: right;\">\n",
       "      <th></th>\n",
       "      <th>Pregnancies</th>\n",
       "      <th>Glucose</th>\n",
       "      <th>BloodPressure</th>\n",
       "      <th>SkinThickness</th>\n",
       "      <th>Insulin</th>\n",
       "      <th>BMI</th>\n",
       "      <th>DiabetesPedigreeFunction</th>\n",
       "      <th>Age</th>\n",
       "      <th>Outcome</th>\n",
       "    </tr>\n",
       "  </thead>\n",
       "  <tbody>\n",
       "  </tbody>\n",
       "</table>\n",
       "</div>"
      ],
      "text/plain": [
       "Empty DataFrame\n",
       "Columns: [Pregnancies, Glucose, BloodPressure, SkinThickness, Insulin, BMI, DiabetesPedigreeFunction, Age, Outcome]\n",
       "Index: []"
      ]
     },
     "metadata": {},
     "output_type": "display_data"
    },
    {
     "data": {
      "text/html": [
       "<div>\n",
       "<style scoped>\n",
       "    .dataframe tbody tr th:only-of-type {\n",
       "        vertical-align: middle;\n",
       "    }\n",
       "\n",
       "    .dataframe tbody tr th {\n",
       "        vertical-align: top;\n",
       "    }\n",
       "\n",
       "    .dataframe thead th {\n",
       "        text-align: right;\n",
       "    }\n",
       "</style>\n",
       "<table border=\"1\" class=\"dataframe\">\n",
       "  <thead>\n",
       "    <tr style=\"text-align: right;\">\n",
       "      <th></th>\n",
       "      <th>Pregnancies</th>\n",
       "      <th>Glucose</th>\n",
       "      <th>BloodPressure</th>\n",
       "      <th>SkinThickness</th>\n",
       "      <th>Insulin</th>\n",
       "      <th>BMI</th>\n",
       "      <th>DiabetesPedigreeFunction</th>\n",
       "      <th>Age</th>\n",
       "      <th>Outcome</th>\n",
       "    </tr>\n",
       "  </thead>\n",
       "  <tbody>\n",
       "  </tbody>\n",
       "</table>\n",
       "</div>"
      ],
      "text/plain": [
       "Empty DataFrame\n",
       "Columns: [Pregnancies, Glucose, BloodPressure, SkinThickness, Insulin, BMI, DiabetesPedigreeFunction, Age, Outcome]\n",
       "Index: []"
      ]
     },
     "metadata": {},
     "output_type": "display_data"
    }
   ],
   "source": [
    "# Question 1: Print out the Outliers in each column in the pima_fixed_columns_df dataframe, use the IQR method of outlier detection.\n",
    "def is_outlier(column: pd.Series):\n",
    "        Q1 = column.quantile(0.25)\n",
    "        Q3 = column.quantile(0.75)\n",
    "        IQR = Q3 - Q1\n",
    "        lower_bound = Q1 - 1.5 * IQR\n",
    "        upper_bound = Q3 + 1.5 * IQR\n",
    "        return ~column.between(lower_bound, upper_bound)\n",
    "    \n",
    "display(pima_missing_fixed_df[is_outlier(pima_missing_fixed_df['Pregnancies'])])\n",
    "display(pima_missing_fixed_df[is_outlier(pima_missing_fixed_df['Glucose'])])\n",
    "display(pima_missing_fixed_df[is_outlier(pima_missing_fixed_df['BloodPressure'])])\n",
    "display(pima_missing_fixed_df[is_outlier(pima_missing_fixed_df['SkinThickness'])])\n",
    "display(pima_missing_fixed_df[is_outlier(pima_missing_fixed_df['Insulin'])])\n",
    "display(pima_missing_fixed_df[is_outlier(pima_missing_fixed_df['BMI'])])\n",
    "display(pima_missing_fixed_df[is_outlier(pima_missing_fixed_df['DiabetesPedigreeFunction'])])\n",
    "display(pima_missing_fixed_df[is_outlier(pima_missing_fixed_df['Age'])])\n",
    "# pregnancy, bloodpressure, and insulin have outliers"
   ]
  },
  {
   "cell_type": "code",
   "execution_count": 731,
   "metadata": {
    "id": "5KJS7ul145jG"
   },
   "outputs": [
    {
     "data": {
      "text/html": [
       "<div>\n",
       "<style scoped>\n",
       "    .dataframe tbody tr th:only-of-type {\n",
       "        vertical-align: middle;\n",
       "    }\n",
       "\n",
       "    .dataframe tbody tr th {\n",
       "        vertical-align: top;\n",
       "    }\n",
       "\n",
       "    .dataframe thead th {\n",
       "        text-align: right;\n",
       "    }\n",
       "</style>\n",
       "<table border=\"1\" class=\"dataframe\">\n",
       "  <thead>\n",
       "    <tr style=\"text-align: right;\">\n",
       "      <th></th>\n",
       "      <th>Pregnancies</th>\n",
       "      <th>Glucose</th>\n",
       "      <th>BloodPressure</th>\n",
       "      <th>SkinThickness</th>\n",
       "      <th>Insulin</th>\n",
       "      <th>BMI</th>\n",
       "      <th>DiabetesPedigreeFunction</th>\n",
       "      <th>Age</th>\n",
       "      <th>Outcome</th>\n",
       "    </tr>\n",
       "  </thead>\n",
       "  <tbody>\n",
       "    <tr>\n",
       "      <th>0</th>\n",
       "      <td>3.0</td>\n",
       "      <td>167.0</td>\n",
       "      <td>39.0</td>\n",
       "      <td>28</td>\n",
       "      <td>545</td>\n",
       "      <td>53.0</td>\n",
       "      <td>2.447</td>\n",
       "      <td>125.0</td>\n",
       "      <td>False</td>\n",
       "    </tr>\n",
       "    <tr>\n",
       "      <th>2</th>\n",
       "      <td>8.0</td>\n",
       "      <td>59.0</td>\n",
       "      <td>109.0</td>\n",
       "      <td>18</td>\n",
       "      <td>739</td>\n",
       "      <td>59.1</td>\n",
       "      <td>1.769</td>\n",
       "      <td>91.0</td>\n",
       "      <td>True</td>\n",
       "    </tr>\n",
       "    <tr>\n",
       "      <th>4</th>\n",
       "      <td>10.0</td>\n",
       "      <td>165.0</td>\n",
       "      <td>48.0</td>\n",
       "      <td>37</td>\n",
       "      <td>737</td>\n",
       "      <td>39.4</td>\n",
       "      <td>0.729</td>\n",
       "      <td>73.0</td>\n",
       "      <td>False</td>\n",
       "    </tr>\n",
       "    <tr>\n",
       "      <th>6</th>\n",
       "      <td>6.0</td>\n",
       "      <td>151.0</td>\n",
       "      <td>60.0</td>\n",
       "      <td>26</td>\n",
       "      <td>362</td>\n",
       "      <td>43.4</td>\n",
       "      <td>2.027</td>\n",
       "      <td>23.0</td>\n",
       "      <td>False</td>\n",
       "    </tr>\n",
       "    <tr>\n",
       "      <th>7</th>\n",
       "      <td>0.0</td>\n",
       "      <td>179.0</td>\n",
       "      <td>0.0</td>\n",
       "      <td>19</td>\n",
       "      <td>238</td>\n",
       "      <td>47.7</td>\n",
       "      <td>2.656</td>\n",
       "      <td>77.0</td>\n",
       "      <td>False</td>\n",
       "    </tr>\n",
       "  </tbody>\n",
       "</table>\n",
       "</div>"
      ],
      "text/plain": [
       "   Pregnancies  Glucose  BloodPressure  SkinThickness  Insulin   BMI  \\\n",
       "0          3.0    167.0           39.0             28      545  53.0   \n",
       "2          8.0     59.0          109.0             18      739  59.1   \n",
       "4         10.0    165.0           48.0             37      737  39.4   \n",
       "6          6.0    151.0           60.0             26      362  43.4   \n",
       "7          0.0    179.0            0.0             19      238  47.7   \n",
       "\n",
       "   DiabetesPedigreeFunction    Age  Outcome  \n",
       "0                     2.447  125.0    False  \n",
       "2                     1.769   91.0     True  \n",
       "4                     0.729   73.0    False  \n",
       "6                     2.027   23.0    False  \n",
       "7                     2.656   77.0    False  "
      ]
     },
     "execution_count": 731,
     "metadata": {},
     "output_type": "execute_result"
    }
   ],
   "source": [
    "# Question 2: Use loc to remove outliers in each of the columns that have outliers, save this as pima_outlier_removed_df.\n",
    "\n",
    "pima_outlier_removed_df = pima_missing_fixed_df[is_outlier(pima_missing_fixed_df['Pregnancies']) != True]\n",
    "pima_outlier_removed_df = pima_outlier_removed_df[is_outlier(pima_outlier_removed_df['BloodPressure']) != True]\n",
    "pima_outlier_removed_df = pima_outlier_removed_df[is_outlier(pima_outlier_removed_df['Insulin']) != True]\n"
   ]
  },
  {
   "cell_type": "code",
   "execution_count": 735,
   "metadata": {
    "id": "mym-knIi45jG"
   },
   "outputs": [
    {
     "name": "stdout",
     "output_type": "stream",
     "text": [
      "832 is the numbre of rows before correcting for outliers\n",
      "828 is the number of rows left after corrections\n"
     ]
    }
   ],
   "source": [
    "# Question 3:  Print out the row count in the pima_outlier_removed_df and confirm this number is correct.\n",
    "print(f\"{pima_missing_fixed_df.shape[0]} is the numbre of rows before correcting for outliers\")\n",
    "print(f\"{pima_outlier_removed_df.shape[0]} is the number of rows left after corrections\")"
   ]
  },
  {
   "cell_type": "code",
   "execution_count": null,
   "metadata": {},
   "outputs": [],
   "source": []
  }
 ],
 "metadata": {
  "colab": {
   "provenance": [
    {
     "file_id": "1I8RIhuR2GECorV0ZwuD7nlJz0FHf8g_F",
     "timestamp": 1719461469986
    }
   ]
  },
  "kernelspec": {
   "display_name": "Python 3 (ipykernel)",
   "language": "python",
   "name": "python3"
  },
  "language_info": {
   "codemirror_mode": {
    "name": "ipython",
    "version": 3
   },
   "file_extension": ".py",
   "mimetype": "text/x-python",
   "name": "python",
   "nbconvert_exporter": "python",
   "pygments_lexer": "ipython3",
   "version": "3.12.4"
  }
 },
 "nbformat": 4,
 "nbformat_minor": 4
}
