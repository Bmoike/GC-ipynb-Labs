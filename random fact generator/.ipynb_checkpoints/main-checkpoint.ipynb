{
 "cells": [
  {
   "cell_type": "code",
   "execution_count": 3,
   "id": "d6409ed8-aaa4-40ab-9ce6-eae5cfe23f9e",
   "metadata": {},
   "outputs": [],
   "source": [
    "from fastapi import FastAPI\n",
    "from pydantic import BaseModel\n",
    "\n",
    "app = FastAPI()\n",
    "\n",
    "\n",
    "\n",
    "# facts class\n",
    "class randomFacts(BaseModel):\n",
    "    id: int\n",
    "    fact: str\n",
    "\n",
    "\n",
    "FactDB = [randomFacts(id=1, fact='Penguins mate for life.'), randomFacts(id=2, fact='Canadian Northwest Territories License plates are shaped like polar bears.'),\n",
    "         randomFacts(id=3, fact='The Governor of Moscow trained a large bear to serve pepper Vodka to his guests.')]\n",
    "\n",
    "\n",
    "\n",
    "# returns the whole data base\n",
    "@app.get('/fact')\n",
    "async def main():\n",
    "    return i for i in FactDB\n",
    "\n",
    "@app.get('/fact/{id}')\n",
    "async def get_id(id):\n",
    "    \n",
    "    return next((i for i in FactDB if i.id == int(id)), None)\n",
    "\n",
    "\n",
    "# adds new facts and returns the fact so user knows it was added to FactDB\n",
    "@app.post('/')\n",
    "async def add(NewFact: randomFacts):\n",
    "    FactDB.append(NewFact)\n",
    "    return NewFact\n",
    "\n"
   ]
  },
  {
   "cell_type": "code",
   "execution_count": null,
   "id": "931bf102-d19e-4300-bf19-9c984b41f211",
   "metadata": {},
   "outputs": [],
   "source": []
  }
 ],
 "metadata": {
  "kernelspec": {
   "display_name": "Python 3 (ipykernel)",
   "language": "python",
   "name": "python3"
  },
  "language_info": {
   "codemirror_mode": {
    "name": "ipython",
    "version": 3
   },
   "file_extension": ".py",
   "mimetype": "text/x-python",
   "name": "python",
   "nbconvert_exporter": "python",
   "pygments_lexer": "ipython3",
   "version": "3.12.4"
  }
 },
 "nbformat": 4,
 "nbformat_minor": 5
}
