{
 "cells": [
  {
   "cell_type": "markdown",
   "id": "ec7397bf",
   "metadata": {
    "id": "ec7397bf"
   },
   "source": [
    "# Weather Changes Over Time (Consuming APIs)\n",
    "\n",
    "## Task\n",
    "Utilize the following two APIs to evaluate the changes in temperature for your birthday and city you were born in:\n",
    "* [geocode.xyz](geocode.xyz)\n",
    "* [open-meteo.com](open-meteo.com)\n"
   ]
  },
  {
   "cell_type": "code",
   "execution_count": 132,
   "id": "b25836d9",
   "metadata": {
    "ExecuteTime": {
     "end_time": "2023-02-28T00:37:36.649033Z",
     "start_time": "2023-02-28T00:37:35.420371Z"
    },
    "id": "b25836d9"
   },
   "outputs": [],
   "source": [
    "from datetime import date, datetime, timedelta\n",
    "\n",
    "import requests\n",
    "import pandas as pd\n",
    "import numpy as np\n",
    "\n",
    "import seaborn as sns\n",
    "from matplotlib import pyplot as plt\n",
    "from matplotlib.ticker import FormatStrFormatter\n",
    "\n",
    "%matplotlib inline\n",
    "\n",
    "sns.set_palette('muted')\n",
    "sns.set_style('white')"
   ]
  },
  {
   "cell_type": "markdown",
   "id": "cd30d0c3",
   "metadata": {
    "ExecuteTime": {
     "end_time": "2023-02-27T20:30:03.112450Z",
     "start_time": "2023-02-27T20:30:03.106139Z"
    },
    "id": "cd30d0c3"
   },
   "source": [
    "## Question 1: Geocoding A Location\n",
    "\n",
    "> Indented block\n",
    "\n",
    "\n",
    "Write a function that utilizes the [geocode.xyz](geocode.xyz) API to take in a city and country and return the latitude and longitude of that location\n",
    "\n",
    "```\n",
    "def geocode_location(city, country):\n",
    "    # your code\n",
    "    return latitude, longitude\n",
    "```\n",
    "\n",
    "For example:\n",
    "```\n",
    "geocode_location(\"london\", \"united kingdom\")\n",
    "```\n",
    "should return\n",
    "```\n",
    "(51.49742, -0.11534)\n",
    "```"
   ]
  },
  {
   "cell_type": "code",
   "execution_count": 134,
   "id": "e70660d3",
   "metadata": {
    "ExecuteTime": {
     "end_time": "2023-02-27T22:31:12.769895Z",
     "start_time": "2023-02-27T22:31:12.752767Z"
    },
    "id": "e70660d3"
   },
   "outputs": [
    {
     "name": "stdout",
     "output_type": "stream",
     "text": [
      "(51.51412, -0.11460)\n"
     ]
    }
   ],
   "source": [
    "# write your solution here\n",
    "def geocode_location(city, country):\n",
    "    location = requests.get(f\"https://geocode.xyz/{city},{country}?json=1\")\n",
    "    location = location.json()\n",
    "    latitude = location['latt']\n",
    "    longitude = location['longt']\n",
    "    return latitude,longitude\n",
    "\n",
    "\n",
    "latitude, longitude = geocode_location('london', 'united kingdom')\n",
    "print(f'({latitude}, {longitude})')"
   ]
  },
  {
   "cell_type": "markdown",
   "id": "2f15ce09",
   "metadata": {
    "id": "2f15ce09"
   },
   "source": [
    "## Question 2: Determining Weather Using Date and Location\n",
    "Write a function that utilizes the [open-meteo.com](https://open-meteo.com/) API to take in a date and location and return the 15-day average high and low for the following measurements from the years 1960 to 2022:\n",
    "* `precipitation_sum` (mm): Sum of daily precipitation (including rain, showers and snowfall)\n",
    "* `temperature_2m_max` (°F): Maximum daily air temperature at 2 meters above ground\n",
    "* `temperature_2m_min` (°F): Minimum daily air temperature at 2 meters above ground\n",
    "* `apparent_temperature_max` (°F): Maximum daily apparent temperature\n",
    "* `apparent_temperature_min` (°F): Min daily apparent temperature\n",
    "\n",
    "The function should return the above measurements in a dictionary object with the keys being `\"precipitation_sum\"`, `\"temperature_2m_max\"`, etc. and the values being the 15-day average of the measurements. The 15-day average should be the 7 days preceeding the input date, the input date, and the 7 days following the input date. This will give the results more statistical validity by increasing the number of samples for each measurement.\n",
    "\n",
    "The `get_historical_weather_measurements()` function will include a few different sub-tasks:\n",
    "\n",
    "### Create API Request in Postman/Insomnia\n",
    "Use the following [API Documentation](https://open-meteo.com/en/docs/historical-weather-api#api-documentation) page to create an API request that responds with a JSON object of the measurements listed above. Make sure the response object meets the following:\n",
    "* Temperatue measurements are in Fahrenheit\n",
    "* Precipitation measurements are in inches\n",
    "* Measurements are daily aggregations\n",
    "* 15 day range of weather\n",
    "* JSON format\n",
    "\n",
    "Before writing any code, use Postman/Insomnia to create the API request and take a screenshot of the request/response.\n",
    "\n",
    "#### HINT: How to insert a screenshot\n",
    "1. Take a screenshot and save it to a file.\n",
    "2. Create a markdown cell in your notebook.\n",
    "3. Insert the image into the markdown cell.\n",
    "  * Option 1: Drag the image file into the markdown cell. This embeds the image data directly into your Jupyter notebook.\n",
    "  * Option 2: Move the file into the directory with your notebook file (inside the project folder that you will submit). Add markdown to insert the image: `![alternative text](path-to-image)`\n",
    "\n",
    "### Create API Request Function\n",
    "Convert the request above into a function. The function should take in `latitude`, `longitude`, and `date` as its arguments and return the API response, if successful.\n",
    "\n",
    "```\n",
    "def get_api_response(latitude, longitude, date):\n",
    "    # your code\n",
    "\n",
    "```\n",
    "\n",
    "Use the helper function below for creating a 15-day date range"
   ]
  },
  {
   "cell_type": "code",
   "execution_count": 136,
   "id": "847c1b60",
   "metadata": {
    "ExecuteTime": {
     "end_time": "2023-02-28T00:37:52.984619Z",
     "start_time": "2023-02-28T00:37:52.975626Z"
    },
    "id": "847c1b60"
   },
   "outputs": [],
   "source": [
    "# helper function for 15-day date range\n",
    "def get_date_range(birthday):\n",
    "    return {'start_date': birthday - timedelta(days=7),\n",
    "            'end_date': birthday + timedelta(days=7)\n",
    "           }"
   ]
  },
  {
   "cell_type": "code",
   "execution_count": 153,
   "id": "fec1e201",
   "metadata": {
    "ExecuteTime": {
     "end_time": "2023-02-28T00:37:55.391271Z",
     "start_time": "2023-02-28T00:37:55.379302Z"
    },
    "id": "fec1e201"
   },
   "outputs": [],
   "source": [
    "# write your solution here\n",
    "def get_api_response(latitude, longitude, birthday):\n",
    "    url = 'https://api.open-meteo.com/v1/archive'\n",
    "    date_range = get_date_range(birthday)\n",
    "\n",
    "    params = {'latitude': latitude,\n",
    "             'longitude': longitude,\n",
    "             'start_date': date_range['start_date'],\n",
    "             'end_date': date_range['end_date'],\n",
    "             'daily': ['temperature_2m_max','temperature_2m_min','apparent_temperature_max','apparent_temperature_min','precipitation_sum'],\n",
    "             'timezone': 'auto',\n",
    "             'temperatue_unit': 'farenheit',\n",
    "             'precipitation_unit': 'inch'}\n",
    "    r = requests.get(url, params=params).json()\n",
    "    return r\n"
   ]
  },
  {
   "cell_type": "markdown",
   "id": "e1a83014",
   "metadata": {
    "id": "e1a83014"
   },
   "source": [
    "### Iterating Over Each Year\n",
    "Write a function that iterates through each year between 1960 and 2022 and returns the corresponding JSON response objects containing weather data for each year in a python list.\n",
    "\n",
    "```\n",
    "def get_all_response_objects(start_year, end_year):\n",
    "    # your code\n",
    "```\n"
   ]
  },
  {
   "cell_type": "code",
   "execution_count": 156,
   "id": "0f7dd9ff",
   "metadata": {
    "ExecuteTime": {
     "end_time": "2023-02-28T00:37:55.921045Z",
     "start_time": "2023-02-28T00:37:55.917896Z"
    },
    "id": "0f7dd9ff"
   },
   "outputs": [],
   "source": [
    "# write your solution here\n",
    "def get_all_response_objects(latitude, longitude, birthday):\n",
    "    responses = []\n",
    "    for year in range(1960, 2023):\n",
    "        request_date = date(year, birthday.month, birthday.day)\n",
    "        response = get_api_response(latitude, longitude, request_date)\n",
    "        responses.append(response)\n",
    "    \n",
    "    return responses    \n",
    "\n"
   ]
  },
  {
   "cell_type": "code",
   "execution_count": 158,
   "id": "8b58701d-91aa-4405-9353-cf5ad5407403",
   "metadata": {},
   "outputs": [],
   "source": [
    "responses = get_all_response_objects(51.51413, -0.11534, date(2000, 12, 1))"
   ]
  },
  {
   "cell_type": "markdown",
   "id": "dd77748a",
   "metadata": {
    "id": "dd77748a"
   },
   "source": [
    "### Parse JSON Responses & Aggregate Data\n",
    "Write a function that takes the list of JSON response objects from the previous function in as a parameter and returns a pandas DataFrame containing the original input date, the measurements, and the average across the 15 days.\n",
    "```\n",
    "def parse_json_response(responses):\n",
    "    # your code\n",
    "```\n"
   ]
  },
  {
   "cell_type": "code",
   "execution_count": 160,
   "id": "756e607e",
   "metadata": {
    "ExecuteTime": {
     "end_time": "2023-02-28T00:58:30.331208Z",
     "start_time": "2023-02-28T00:58:30.320011Z"
    },
    "id": "756e607e"
   },
   "outputs": [],
   "source": [
    "# write your solution here\n",
    "def parse_json_response(responses):\n",
    "    df = pd.DataFrame(responses)\n",
    "    df = df.join(pd.json_normalize(df['daiily']))\\\n",
    "           .drop(columns=['daily'])\n",
    "    \n",
    "    # Get average of measurements\n",
    "    measures = ['temperature_2m_max', 'temperature_2m_min',\n",
    "                'apparent_temperature_max', 'apparent_temperature_min',\n",
    "                'precipitation_sum']\n",
    "    \n",
    "    for col in measures:\n",
    "        df[f\"{col}_mean\"] = df[col].apply(np.mean)\n",
    "        \n",
    "    # add year column\n",
    "    df['year'] = df['time'].apply(lambda l: l[0][:4])\n",
    "    \n",
    "    return df[['year'] + [measure + '_mean' for measure in measures]]"
   ]
  },
  {
   "cell_type": "code",
   "execution_count": 151,
   "id": "8b19487c-551f-44ca-b9a7-454e535e0123",
   "metadata": {},
   "outputs": [
    {
     "ename": "KeyError",
     "evalue": "'daily'",
     "output_type": "error",
     "traceback": [
      "\u001b[1;31m---------------------------------------------------------------------------\u001b[0m",
      "\u001b[1;31mKeyError\u001b[0m                                  Traceback (most recent call last)",
      "File \u001b[1;32m~\\anaconda3\\Lib\\site-packages\\pandas\\core\\indexes\\base.py:3805\u001b[0m, in \u001b[0;36mIndex.get_loc\u001b[1;34m(self, key)\u001b[0m\n\u001b[0;32m   3804\u001b[0m \u001b[38;5;28;01mtry\u001b[39;00m:\n\u001b[1;32m-> 3805\u001b[0m     \u001b[38;5;28;01mreturn\u001b[39;00m \u001b[38;5;28;43mself\u001b[39;49m\u001b[38;5;241;43m.\u001b[39;49m\u001b[43m_engine\u001b[49m\u001b[38;5;241;43m.\u001b[39;49m\u001b[43mget_loc\u001b[49m\u001b[43m(\u001b[49m\u001b[43mcasted_key\u001b[49m\u001b[43m)\u001b[49m\n\u001b[0;32m   3806\u001b[0m \u001b[38;5;28;01mexcept\u001b[39;00m \u001b[38;5;167;01mKeyError\u001b[39;00m \u001b[38;5;28;01mas\u001b[39;00m err:\n",
      "File \u001b[1;32mindex.pyx:167\u001b[0m, in \u001b[0;36mpandas._libs.index.IndexEngine.get_loc\u001b[1;34m()\u001b[0m\n",
      "File \u001b[1;32mindex.pyx:196\u001b[0m, in \u001b[0;36mpandas._libs.index.IndexEngine.get_loc\u001b[1;34m()\u001b[0m\n",
      "File \u001b[1;32mpandas\\\\_libs\\\\hashtable_class_helper.pxi:7081\u001b[0m, in \u001b[0;36mpandas._libs.hashtable.PyObjectHashTable.get_item\u001b[1;34m()\u001b[0m\n",
      "File \u001b[1;32mpandas\\\\_libs\\\\hashtable_class_helper.pxi:7089\u001b[0m, in \u001b[0;36mpandas._libs.hashtable.PyObjectHashTable.get_item\u001b[1;34m()\u001b[0m\n",
      "\u001b[1;31mKeyError\u001b[0m: 'daily'",
      "\nThe above exception was the direct cause of the following exception:\n",
      "\u001b[1;31mKeyError\u001b[0m                                  Traceback (most recent call last)",
      "Cell \u001b[1;32mIn[151], line 1\u001b[0m\n\u001b[1;32m----> 1\u001b[0m df \u001b[38;5;241m=\u001b[39m \u001b[43mparse_json_response\u001b[49m\u001b[43m(\u001b[49m\u001b[43mresponses\u001b[49m\u001b[43m)\u001b[49m\n",
      "Cell \u001b[1;32mIn[149], line 4\u001b[0m, in \u001b[0;36mparse_json_response\u001b[1;34m(responses)\u001b[0m\n\u001b[0;32m      2\u001b[0m \u001b[38;5;28;01mdef\u001b[39;00m \u001b[38;5;21mparse_json_response\u001b[39m(responses):\n\u001b[0;32m      3\u001b[0m     df \u001b[38;5;241m=\u001b[39m pd\u001b[38;5;241m.\u001b[39mDataFrame(responses)\n\u001b[1;32m----> 4\u001b[0m     df \u001b[38;5;241m=\u001b[39m df\u001b[38;5;241m.\u001b[39mjoin(pd\u001b[38;5;241m.\u001b[39mjson_normalize(\u001b[43mdf\u001b[49m\u001b[43m[\u001b[49m\u001b[38;5;124;43m'\u001b[39;49m\u001b[38;5;124;43mdaily\u001b[39;49m\u001b[38;5;124;43m'\u001b[39;49m\u001b[43m]\u001b[49m))\\\n\u001b[0;32m      5\u001b[0m            \u001b[38;5;241m.\u001b[39mdrop(columns\u001b[38;5;241m=\u001b[39m[\u001b[38;5;124m'\u001b[39m\u001b[38;5;124mdaily\u001b[39m\u001b[38;5;124m'\u001b[39m])\n\u001b[0;32m      7\u001b[0m     \u001b[38;5;66;03m# Get average of measurements\u001b[39;00m\n\u001b[0;32m      8\u001b[0m     measures \u001b[38;5;241m=\u001b[39m [\u001b[38;5;124m'\u001b[39m\u001b[38;5;124mtemperature_2m_max\u001b[39m\u001b[38;5;124m'\u001b[39m, \u001b[38;5;124m'\u001b[39m\u001b[38;5;124mtemperature_2m_min\u001b[39m\u001b[38;5;124m'\u001b[39m,\n\u001b[0;32m      9\u001b[0m                 \u001b[38;5;124m'\u001b[39m\u001b[38;5;124mapparent_temperature_max\u001b[39m\u001b[38;5;124m'\u001b[39m, \u001b[38;5;124m'\u001b[39m\u001b[38;5;124mapparent_temperature_min\u001b[39m\u001b[38;5;124m'\u001b[39m,\n\u001b[0;32m     10\u001b[0m                 \u001b[38;5;124m'\u001b[39m\u001b[38;5;124mprecipitation_sum\u001b[39m\u001b[38;5;124m'\u001b[39m]\n",
      "File \u001b[1;32m~\\anaconda3\\Lib\\site-packages\\pandas\\core\\frame.py:4102\u001b[0m, in \u001b[0;36mDataFrame.__getitem__\u001b[1;34m(self, key)\u001b[0m\n\u001b[0;32m   4100\u001b[0m \u001b[38;5;28;01mif\u001b[39;00m \u001b[38;5;28mself\u001b[39m\u001b[38;5;241m.\u001b[39mcolumns\u001b[38;5;241m.\u001b[39mnlevels \u001b[38;5;241m>\u001b[39m \u001b[38;5;241m1\u001b[39m:\n\u001b[0;32m   4101\u001b[0m     \u001b[38;5;28;01mreturn\u001b[39;00m \u001b[38;5;28mself\u001b[39m\u001b[38;5;241m.\u001b[39m_getitem_multilevel(key)\n\u001b[1;32m-> 4102\u001b[0m indexer \u001b[38;5;241m=\u001b[39m \u001b[38;5;28;43mself\u001b[39;49m\u001b[38;5;241;43m.\u001b[39;49m\u001b[43mcolumns\u001b[49m\u001b[38;5;241;43m.\u001b[39;49m\u001b[43mget_loc\u001b[49m\u001b[43m(\u001b[49m\u001b[43mkey\u001b[49m\u001b[43m)\u001b[49m\n\u001b[0;32m   4103\u001b[0m \u001b[38;5;28;01mif\u001b[39;00m is_integer(indexer):\n\u001b[0;32m   4104\u001b[0m     indexer \u001b[38;5;241m=\u001b[39m [indexer]\n",
      "File \u001b[1;32m~\\anaconda3\\Lib\\site-packages\\pandas\\core\\indexes\\base.py:3812\u001b[0m, in \u001b[0;36mIndex.get_loc\u001b[1;34m(self, key)\u001b[0m\n\u001b[0;32m   3807\u001b[0m     \u001b[38;5;28;01mif\u001b[39;00m \u001b[38;5;28misinstance\u001b[39m(casted_key, \u001b[38;5;28mslice\u001b[39m) \u001b[38;5;129;01mor\u001b[39;00m (\n\u001b[0;32m   3808\u001b[0m         \u001b[38;5;28misinstance\u001b[39m(casted_key, abc\u001b[38;5;241m.\u001b[39mIterable)\n\u001b[0;32m   3809\u001b[0m         \u001b[38;5;129;01mand\u001b[39;00m \u001b[38;5;28many\u001b[39m(\u001b[38;5;28misinstance\u001b[39m(x, \u001b[38;5;28mslice\u001b[39m) \u001b[38;5;28;01mfor\u001b[39;00m x \u001b[38;5;129;01min\u001b[39;00m casted_key)\n\u001b[0;32m   3810\u001b[0m     ):\n\u001b[0;32m   3811\u001b[0m         \u001b[38;5;28;01mraise\u001b[39;00m InvalidIndexError(key)\n\u001b[1;32m-> 3812\u001b[0m     \u001b[38;5;28;01mraise\u001b[39;00m \u001b[38;5;167;01mKeyError\u001b[39;00m(key) \u001b[38;5;28;01mfrom\u001b[39;00m \u001b[38;5;21;01merr\u001b[39;00m\n\u001b[0;32m   3813\u001b[0m \u001b[38;5;28;01mexcept\u001b[39;00m \u001b[38;5;167;01mTypeError\u001b[39;00m:\n\u001b[0;32m   3814\u001b[0m     \u001b[38;5;66;03m# If we have a listlike key, _check_indexing_error will raise\u001b[39;00m\n\u001b[0;32m   3815\u001b[0m     \u001b[38;5;66;03m#  InvalidIndexError. Otherwise we fall through and re-raise\u001b[39;00m\n\u001b[0;32m   3816\u001b[0m     \u001b[38;5;66;03m#  the TypeError.\u001b[39;00m\n\u001b[0;32m   3817\u001b[0m     \u001b[38;5;28mself\u001b[39m\u001b[38;5;241m.\u001b[39m_check_indexing_error(key)\n",
      "\u001b[1;31mKeyError\u001b[0m: 'daily'"
     ]
    }
   ],
   "source": [
    "df = parse_json_response(responses)"
   ]
  },
  {
   "cell_type": "markdown",
   "id": "e96e3981",
   "metadata": {
    "id": "e96e3981"
   },
   "source": [
    "### Combining the Functions\n",
    "Write a function that combines all the above functions into one, where the user inputs their birthday and location and the function returns the pandas DataFrame containing the summary of measurements.\n",
    "\n",
    "```\n",
    "def get_data():\n",
    "    birthday = get_user_birthday()\n",
    "    location = get_user_city_of_birth()\n",
    "    # your code here\n",
    "```\n",
    "\n",
    "The helper functions below can be used for birthday and location input information:"
   ]
  },
  {
   "cell_type": "code",
   "execution_count": null,
   "id": "554d19ad",
   "metadata": {
    "ExecuteTime": {
     "end_time": "2023-02-28T00:37:56.448620Z",
     "start_time": "2023-02-28T00:37:56.443554Z"
    },
    "id": "554d19ad"
   },
   "outputs": [],
   "source": [
    "# helper functions\n",
    "def get_user_birthday():\n",
    "    birthday = input('Enter your birthday (MM/DD/YYYY): ')\n",
    "    return datetime.strptime(birthday, \"%m/%d/%Y\")\n",
    "\n",
    "def get_user_city_of_birth():\n",
    "    city = input('Enter the city you were born in: ')\n",
    "    country = input('Enter the country you were born in: ')\n",
    "    return city , country"
   ]
  },
  {
   "cell_type": "code",
   "execution_count": null,
   "id": "a7cd8c53",
   "metadata": {
    "ExecuteTime": {
     "end_time": "2023-02-28T00:37:56.588922Z",
     "start_time": "2023-02-28T00:37:56.585684Z"
    },
    "id": "a7cd8c53"
   },
   "outputs": [],
   "source": [
    "# write your solution here\n",
    "def get_data():\n",
    "    birthday = get_user_birthday()\n",
    "    location = get_user_city_of_birth()\n",
    "    \n",
    "    latitude, longitude = geocode_location(*location)\n",
    "    \n",
    "    responses = get_all_response_objects(latitude, longitude, birthday)\n",
    "    \n",
    "    return parse_json_response(responses)"
   ]
  },
  {
   "cell_type": "markdown",
   "id": "caebdcff",
   "metadata": {
    "id": "caebdcff"
   },
   "source": [
    "Run your function and set it equal to `df`:"
   ]
  },
  {
   "cell_type": "code",
   "execution_count": null,
   "id": "e430b5df",
   "metadata": {
    "ExecuteTime": {
     "end_time": "2023-02-28T00:37:57.411326Z",
     "start_time": "2023-02-28T00:37:56.840425Z"
    },
    "id": "e430b5df",
    "scrolled": true
   },
   "outputs": [],
   "source": [
    "df = get_data()\n",
    "\n",
    "df.head()"
   ]
  },
  {
   "cell_type": "markdown",
   "id": "242a871e",
   "metadata": {
    "id": "242a871e"
   },
   "source": [
    "## Question 3: Visualizing The Data\n",
    "Plot the DataFrame using `matplotlib`/`seaborn` and write a short summary of your results."
   ]
  },
  {
   "cell_type": "code",
   "execution_count": null,
   "id": "43e099dd",
   "metadata": {
    "ExecuteTime": {
     "end_time": "2023-02-28T00:38:07.414648Z",
     "start_time": "2023-02-28T00:38:07.408238Z"
    },
    "id": "43e099dd"
   },
   "outputs": [],
   "source": [
    "# enter your code here"
   ]
  },
  {
   "cell_type": "markdown",
   "id": "eb6e5a2a",
   "metadata": {
    "id": "eb6e5a2a"
   },
   "source": [
    "### Results Summary:"
   ]
  },
  {
   "cell_type": "code",
   "execution_count": null,
   "id": "5597b0c9",
   "metadata": {
    "id": "5597b0c9"
   },
   "outputs": [],
   "source": []
  }
 ],
 "metadata": {
  "colab": {
   "provenance": []
  },
  "kernelspec": {
   "display_name": "Python 3 (ipykernel)",
   "language": "python",
   "name": "python3"
  },
  "language_info": {
   "codemirror_mode": {
    "name": "ipython",
    "version": 3
   },
   "file_extension": ".py",
   "mimetype": "text/x-python",
   "name": "python",
   "nbconvert_exporter": "python",
   "pygments_lexer": "ipython3",
   "version": "3.12.4"
  }
 },
 "nbformat": 4,
 "nbformat_minor": 5
}
