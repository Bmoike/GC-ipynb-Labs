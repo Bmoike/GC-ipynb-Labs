{
 "cells": [
  {
   "cell_type": "code",
   "execution_count": 70,
   "id": "81749340-0788-4ccf-aca1-cf2462f940e6",
   "metadata": {},
   "outputs": [],
   "source": [
    "import pandas as pd\n",
    "import numpy as np"
   ]
  },
  {
   "cell_type": "markdown",
   "id": "ac46ae42-43ee-497f-8d65-e33365775de3",
   "metadata": {},
   "source": [
    "## Question 1"
   ]
  },
  {
   "cell_type": "code",
   "execution_count": 32,
   "id": "7e1c2b8a-ab1f-459c-aefe-f20e40385c21",
   "metadata": {},
   "outputs": [],
   "source": [
    "df = pd.read_csv('student_grades_2024.csv')"
   ]
  },
  {
   "cell_type": "code",
   "execution_count": 46,
   "id": "9a75694d-a438-45f3-8111-f822745a4b4b",
   "metadata": {},
   "outputs": [
    {
     "data": {
      "text/html": [
       "<div>\n",
       "<style scoped>\n",
       "    .dataframe tbody tr th:only-of-type {\n",
       "        vertical-align: middle;\n",
       "    }\n",
       "\n",
       "    .dataframe tbody tr th {\n",
       "        vertical-align: top;\n",
       "    }\n",
       "\n",
       "    .dataframe thead th {\n",
       "        text-align: right;\n",
       "    }\n",
       "</style>\n",
       "<table border=\"1\" class=\"dataframe\">\n",
       "  <thead>\n",
       "    <tr style=\"text-align: right;\">\n",
       "      <th></th>\n",
       "      <th>Math</th>\n",
       "      <th>Science</th>\n",
       "      <th>Reading</th>\n",
       "      <th>History</th>\n",
       "    </tr>\n",
       "  </thead>\n",
       "  <tbody>\n",
       "    <tr>\n",
       "      <th>count</th>\n",
       "      <td>7.000000</td>\n",
       "      <td>7.000000</td>\n",
       "      <td>7.000000</td>\n",
       "      <td>7.000000</td>\n",
       "    </tr>\n",
       "    <tr>\n",
       "      <th>mean</th>\n",
       "      <td>11.928571</td>\n",
       "      <td>14.214286</td>\n",
       "      <td>10.785714</td>\n",
       "      <td>11.428571</td>\n",
       "    </tr>\n",
       "    <tr>\n",
       "      <th>std</th>\n",
       "      <td>3.610501</td>\n",
       "      <td>3.615443</td>\n",
       "      <td>2.811541</td>\n",
       "      <td>2.620887</td>\n",
       "    </tr>\n",
       "    <tr>\n",
       "      <th>min</th>\n",
       "      <td>7.000000</td>\n",
       "      <td>9.000000</td>\n",
       "      <td>7.000000</td>\n",
       "      <td>7.500000</td>\n",
       "    </tr>\n",
       "    <tr>\n",
       "      <th>25%</th>\n",
       "      <td>10.250000</td>\n",
       "      <td>11.500000</td>\n",
       "      <td>9.500000</td>\n",
       "      <td>9.500000</td>\n",
       "    </tr>\n",
       "    <tr>\n",
       "      <th>50%</th>\n",
       "      <td>11.000000</td>\n",
       "      <td>15.500000</td>\n",
       "      <td>11.000000</td>\n",
       "      <td>12.000000</td>\n",
       "    </tr>\n",
       "    <tr>\n",
       "      <th>75%</th>\n",
       "      <td>13.500000</td>\n",
       "      <td>16.750000</td>\n",
       "      <td>11.250000</td>\n",
       "      <td>13.750000</td>\n",
       "    </tr>\n",
       "    <tr>\n",
       "      <th>max</th>\n",
       "      <td>18.000000</td>\n",
       "      <td>18.500000</td>\n",
       "      <td>16.000000</td>\n",
       "      <td>14.000000</td>\n",
       "    </tr>\n",
       "  </tbody>\n",
       "</table>\n",
       "</div>"
      ],
      "text/plain": [
       "            Math    Science    Reading    History\n",
       "count   7.000000   7.000000   7.000000   7.000000\n",
       "mean   11.928571  14.214286  10.785714  11.428571\n",
       "std     3.610501   3.615443   2.811541   2.620887\n",
       "min     7.000000   9.000000   7.000000   7.500000\n",
       "25%    10.250000  11.500000   9.500000   9.500000\n",
       "50%    11.000000  15.500000  11.000000  12.000000\n",
       "75%    13.500000  16.750000  11.250000  13.750000\n",
       "max    18.000000  18.500000  16.000000  14.000000"
      ]
     },
     "execution_count": 46,
     "metadata": {},
     "output_type": "execute_result"
    }
   ],
   "source": [
    "df.describe()"
   ]
  },
  {
   "cell_type": "code",
   "execution_count": 48,
   "id": "b89bee19-aea4-4b38-ae98-60a2a4b838d1",
   "metadata": {},
   "outputs": [
    {
     "data": {
      "text/plain": [
       "11.0"
      ]
     },
     "execution_count": 48,
     "metadata": {},
     "output_type": "execute_result"
    }
   ],
   "source": [
    "df['Math'].median()"
   ]
  },
  {
   "cell_type": "code",
   "execution_count": 50,
   "id": "1425dc65-a9ac-4d11-a547-d4540f569377",
   "metadata": {},
   "outputs": [
    {
     "data": {
      "text/plain": [
       "0    14.0\n",
       "Name: History, dtype: float64"
      ]
     },
     "execution_count": 50,
     "metadata": {},
     "output_type": "execute_result"
    }
   ],
   "source": [
    "df['History'].mode()"
   ]
  },
  {
   "cell_type": "markdown",
   "id": "75fc27b3-274b-4efa-af38-2ca056f3a6b4",
   "metadata": {},
   "source": [
    "## Question 2"
   ]
  },
  {
   "cell_type": "code",
   "execution_count": 24,
   "id": "ac06a3a1-6ef7-45cc-8f2b-7ab4946d740e",
   "metadata": {},
   "outputs": [
    {
     "data": {
      "text/plain": [
       "Name    Math  Science  Reading  History\n",
       "Adam    11.0  9.0      16.0     13.5       1\n",
       "Alisha  9.5   12.0     10.5     14.0       1\n",
       "Anna    12.0  11.0     8.5      10.0       1\n",
       "Corey   7.0   15.5     11.0     14.0       1\n",
       "James   11.0  18.0     11.5     9.0        1\n",
       "Jodie   15.0  18.5     7.0      12.0       1\n",
       "John    18.0  15.5     11.0     7.5        1\n",
       "Name: count, dtype: int64"
      ]
     },
     "execution_count": 24,
     "metadata": {},
     "output_type": "execute_result"
    }
   ],
   "source": [
    "df.value_counts()"
   ]
  },
  {
   "cell_type": "code",
   "execution_count": 80,
   "id": "72b2cbbe-94d2-4303-b0bd-ea6ec197510d",
   "metadata": {},
   "outputs": [
    {
     "name": "stdout",
     "output_type": "stream",
     "text": [
      "History and Math have the strongest relationship.\n"
     ]
    },
    {
     "data": {
      "text/html": [
       "<div>\n",
       "<style scoped>\n",
       "    .dataframe tbody tr th:only-of-type {\n",
       "        vertical-align: middle;\n",
       "    }\n",
       "\n",
       "    .dataframe tbody tr th {\n",
       "        vertical-align: top;\n",
       "    }\n",
       "\n",
       "    .dataframe thead th {\n",
       "        text-align: right;\n",
       "    }\n",
       "</style>\n",
       "<table border=\"1\" class=\"dataframe\">\n",
       "  <thead>\n",
       "    <tr style=\"text-align: right;\">\n",
       "      <th></th>\n",
       "      <th>Math</th>\n",
       "      <th>Science</th>\n",
       "      <th>Reading</th>\n",
       "      <th>History</th>\n",
       "    </tr>\n",
       "  </thead>\n",
       "  <tbody>\n",
       "    <tr>\n",
       "      <th>Math</th>\n",
       "      <td>1.00</td>\n",
       "      <td>0.27</td>\n",
       "      <td>-0.27</td>\n",
       "      <td>-0.72</td>\n",
       "    </tr>\n",
       "    <tr>\n",
       "      <th>Science</th>\n",
       "      <td>0.27</td>\n",
       "      <td>1.00</td>\n",
       "      <td>-0.53</td>\n",
       "      <td>-0.36</td>\n",
       "    </tr>\n",
       "    <tr>\n",
       "      <th>Reading</th>\n",
       "      <td>-0.27</td>\n",
       "      <td>-0.53</td>\n",
       "      <td>1.00</td>\n",
       "      <td>0.21</td>\n",
       "    </tr>\n",
       "    <tr>\n",
       "      <th>History</th>\n",
       "      <td>-0.72</td>\n",
       "      <td>-0.36</td>\n",
       "      <td>0.21</td>\n",
       "      <td>1.00</td>\n",
       "    </tr>\n",
       "  </tbody>\n",
       "</table>\n",
       "</div>"
      ],
      "text/plain": [
       "         Math  Science  Reading  History\n",
       "Math     1.00     0.27    -0.27    -0.72\n",
       "Science  0.27     1.00    -0.53    -0.36\n",
       "Reading -0.27    -0.53     1.00     0.21\n",
       "History -0.72    -0.36     0.21     1.00"
      ]
     },
     "execution_count": 80,
     "metadata": {},
     "output_type": "execute_result"
    }
   ],
   "source": [
    "print('History and Math have the strongest relationship.')\n",
    "df.corr(numeric_only=True).round(2)"
   ]
  },
  {
   "cell_type": "markdown",
   "id": "b37189ba-4da5-4f1f-877f-985a61bd9521",
   "metadata": {},
   "source": [
    "## Question 3"
   ]
  },
  {
   "cell_type": "code",
   "execution_count": 123,
   "id": "0880937a-c978-4d2d-b824-7601e9d5805a",
   "metadata": {},
   "outputs": [
    {
     "name": "stdout",
     "output_type": "stream",
     "text": [
      "Mean: 59.48\n",
      "Median: 60.0\n",
      "Mode: 60\n",
      "Min: 5\n",
      "Max: 99\n",
      "Range: 94\n",
      "Var: 664.16\n",
      "Stdev: 25.77\n"
     ]
    }
   ],
   "source": [
    "import statistics as stats\n",
    "def desc_stats(math_exams):\n",
    "    print(f'Mean: {np.mean(math_exams).round(2)}')\n",
    "    print(f'Median: {np.median(math_exams)}')\n",
    "    print(f'Mode: {stats.mode(math_exams)}')\n",
    "    print(f'Min: {np.min(math_exams)}')\n",
    "    print(f'Max: {np.max(math_exams)}')\n",
    "    print(f'Range: {np.max(math_exams)-np.min(math_exams)}')\n",
    "    print(f'Var: {np.var(math_exams).round(2)}')\n",
    "    print(f'Stdev: {np.std(math_exams).round(2)}')\n",
    "\n",
    "math_scores = [24, 5, 15, 60, 54, 82, 99, 80, 70, 98, 93, 60, 33, 22, 65, 61, 51, 58, 83, 86, 42, 67, 60]\n",
    "desc_stats(math_scores)"
   ]
  },
  {
   "cell_type": "code",
   "execution_count": null,
   "id": "647eed9d-e0c6-4983-b8c0-fcf27c5499a5",
   "metadata": {},
   "outputs": [],
   "source": []
  }
 ],
 "metadata": {
  "kernelspec": {
   "display_name": "Python 3 (ipykernel)",
   "language": "python",
   "name": "python3"
  },
  "language_info": {
   "codemirror_mode": {
    "name": "ipython",
    "version": 3
   },
   "file_extension": ".py",
   "mimetype": "text/x-python",
   "name": "python",
   "nbconvert_exporter": "python",
   "pygments_lexer": "ipython3",
   "version": "3.12.4"
  }
 },
 "nbformat": 4,
 "nbformat_minor": 5
}
